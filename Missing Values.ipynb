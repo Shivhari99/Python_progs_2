{
 "cells": [
  {
   "cell_type": "code",
   "execution_count": 22,
   "metadata": {},
   "outputs": [],
   "source": [
    "    import pandas as pd \n",
    "    import os\n",
    "    df = pd.read_excel('Power-Query-sample-1.xlsx')\n",
    "   "
   ]
  },
  {
   "cell_type": "code",
   "execution_count": 23,
   "metadata": {},
   "outputs": [
    {
     "data": {
      "text/plain": [
       "'C:\\\\Users\\\\DELL\\\\Desktop\\\\python Progs'"
      ]
     },
     "execution_count": 23,
     "metadata": {},
     "output_type": "execute_result"
    }
   ],
   "source": [
    "os.getcwd()"
   ]
  },
  {
   "cell_type": "code",
   "execution_count": 24,
   "metadata": {},
   "outputs": [
    {
     "name": "stdout",
     "output_type": "stream",
     "text": [
      "<class 'pandas.core.frame.DataFrame'>\n",
      "RangeIndex: 14 entries, 0 to 13\n",
      "Data columns (total 19 columns):\n",
      " #   Column       Non-Null Count  Dtype  \n",
      "---  ------       --------------  -----  \n",
      " 0   Unnamed: 0   0 non-null      float64\n",
      " 1   Unnamed: 1   4 non-null      object \n",
      " 2   Unnamed: 2   3 non-null      object \n",
      " 3   Unnamed: 3   4 non-null      object \n",
      " 4   Unnamed: 4   3 non-null      object \n",
      " 5   Unnamed: 5   3 non-null      object \n",
      " 6   Unnamed: 6   3 non-null      object \n",
      " 7   Unnamed: 7   3 non-null      object \n",
      " 8   Unnamed: 8   4 non-null      object \n",
      " 9   Unnamed: 9   5 non-null      object \n",
      " 10  Unnamed: 10  3 non-null      object \n",
      " 11  Unnamed: 11  4 non-null      object \n",
      " 12  Unnamed: 12  4 non-null      object \n",
      " 13  Unnamed: 13  4 non-null      object \n",
      " 14  Unnamed: 14  4 non-null      object \n",
      " 15  Unnamed: 15  4 non-null      object \n",
      " 16  Unnamed: 16  4 non-null      object \n",
      " 17  Unnamed: 17  4 non-null      object \n",
      " 18  Unnamed: 18  4 non-null      object \n",
      "dtypes: float64(1), object(18)\n",
      "memory usage: 2.2+ KB\n"
     ]
    }
   ],
   "source": [
    "df.info()"
   ]
  },
  {
   "cell_type": "code",
   "execution_count": 25,
   "metadata": {},
   "outputs": [
    {
     "data": {
      "text/plain": [
       "Index(['Unnamed: 0', 'Unnamed: 1', 'Unnamed: 2', 'Unnamed: 3', 'Unnamed: 4',\n",
       "       'Unnamed: 5', 'Unnamed: 6', 'Unnamed: 7', 'Unnamed: 8', 'Unnamed: 9',\n",
       "       'Unnamed: 10', 'Unnamed: 11', 'Unnamed: 12', 'Unnamed: 13',\n",
       "       'Unnamed: 14', 'Unnamed: 15', 'Unnamed: 16', 'Unnamed: 17',\n",
       "       'Unnamed: 18'],\n",
       "      dtype='object')"
      ]
     },
     "execution_count": 25,
     "metadata": {},
     "output_type": "execute_result"
    }
   ],
   "source": [
    "df.columns"
   ]
  },
  {
   "cell_type": "code",
   "execution_count": 26,
   "metadata": {},
   "outputs": [],
   "source": [
    "df.columns=['Unnamed: 0', 'Unnamed: 1', 'Unnamed: 2', 'Unnamed: 3', 'Unnamed: 4',\n",
    "       'Unnamed: 5', 'Unnamed: 6', 'Unnamed: 7', 'Unnamed: 8', 'Unnamed: 9',\n",
    "       'Unnamed: 10', 'Unnamed: 11', 'Unnamed: 12', 'Unnamed: 13',\n",
    "       'Unnamed: 14', 'Unnamed: 15', 'Unnamed: 16', 'Unnamed: 17',\n",
    "       'Unnamed: 18']"
   ]
  },
  {
   "cell_type": "code",
   "execution_count": 31,
   "metadata": {},
   "outputs": [
    {
     "data": {
      "text/html": [
       "<div>\n",
       "<style scoped>\n",
       "    .dataframe tbody tr th:only-of-type {\n",
       "        vertical-align: middle;\n",
       "    }\n",
       "\n",
       "    .dataframe tbody tr th {\n",
       "        vertical-align: top;\n",
       "    }\n",
       "\n",
       "    .dataframe thead th {\n",
       "        text-align: right;\n",
       "    }\n",
       "</style>\n",
       "<table border=\"1\" class=\"dataframe\">\n",
       "  <thead>\n",
       "    <tr style=\"text-align: right;\">\n",
       "      <th></th>\n",
       "      <th>Unnamed: 0</th>\n",
       "      <th>Unnamed: 1</th>\n",
       "      <th>Unnamed: 2</th>\n",
       "      <th>Unnamed: 3</th>\n",
       "      <th>Unnamed: 4</th>\n",
       "      <th>Unnamed: 5</th>\n",
       "      <th>Unnamed: 6</th>\n",
       "      <th>Unnamed: 7</th>\n",
       "      <th>Unnamed: 8</th>\n",
       "      <th>Unnamed: 9</th>\n",
       "      <th>Unnamed: 10</th>\n",
       "      <th>Unnamed: 11</th>\n",
       "      <th>Unnamed: 12</th>\n",
       "      <th>Unnamed: 13</th>\n",
       "      <th>Unnamed: 14</th>\n",
       "      <th>Unnamed: 15</th>\n",
       "      <th>Unnamed: 16</th>\n",
       "      <th>Unnamed: 17</th>\n",
       "      <th>Unnamed: 18</th>\n",
       "    </tr>\n",
       "  </thead>\n",
       "  <tbody>\n",
       "    <tr>\n",
       "      <th>0</th>\n",
       "      <td>NaN</td>\n",
       "      <td>Item</td>\n",
       "      <td>Q3 2014</td>\n",
       "      <td>Q4 2014</td>\n",
       "      <td>Q1 2015</td>\n",
       "      <td>Q2 2015</td>\n",
       "      <td>Q3 2015</td>\n",
       "      <td>Q4 2015</td>\n",
       "      <td>Q1 2016</td>\n",
       "      <td>Q2 2016</td>\n",
       "      <td>Q3 2016</td>\n",
       "      <td>Q4 2016</td>\n",
       "      <td>Q1 2017</td>\n",
       "      <td>Q2 2017</td>\n",
       "      <td>Q3 2017</td>\n",
       "      <td>Q4 2017</td>\n",
       "      <td>Q1 2018</td>\n",
       "      <td>Q2 2018</td>\n",
       "      <td>Q3 2018</td>\n",
       "    </tr>\n",
       "    <tr>\n",
       "      <th>1</th>\n",
       "      <td>NaN</td>\n",
       "      <td>A</td>\n",
       "      <td>10802</td>\n",
       "      <td>9548</td>\n",
       "      <td>10702</td>\n",
       "      <td>8314</td>\n",
       "      <td>7800</td>\n",
       "      <td>8123</td>\n",
       "      <td>8087</td>\n",
       "      <td>8995</td>\n",
       "      <td>9150</td>\n",
       "      <td>8347</td>\n",
       "      <td>8997</td>\n",
       "      <td>10353</td>\n",
       "      <td>10096</td>\n",
       "      <td>15509</td>\n",
       "      <td>11595</td>\n",
       "      <td>15997</td>\n",
       "      <td>10194</td>\n",
       "    </tr>\n",
       "    <tr>\n",
       "      <th>2</th>\n",
       "      <td>NaN</td>\n",
       "      <td>B</td>\n",
       "      <td>NaN</td>\n",
       "      <td>NaN</td>\n",
       "      <td>NaN</td>\n",
       "      <td>NaN</td>\n",
       "      <td>NaN</td>\n",
       "      <td>NaN</td>\n",
       "      <td>162</td>\n",
       "      <td>174</td>\n",
       "      <td>NaN</td>\n",
       "      <td>194</td>\n",
       "      <td>191</td>\n",
       "      <td>219</td>\n",
       "      <td>223</td>\n",
       "      <td>165</td>\n",
       "      <td>296</td>\n",
       "      <td>290</td>\n",
       "      <td>210</td>\n",
       "    </tr>\n",
       "    <tr>\n",
       "      <th>3</th>\n",
       "      <td>NaN</td>\n",
       "      <td>C</td>\n",
       "      <td>1172</td>\n",
       "      <td>871</td>\n",
       "      <td>875</td>\n",
       "      <td>1074</td>\n",
       "      <td>935</td>\n",
       "      <td>452</td>\n",
       "      <td>1186</td>\n",
       "      <td>1194</td>\n",
       "      <td>1273</td>\n",
       "      <td>1248</td>\n",
       "      <td>632</td>\n",
       "      <td>NaN</td>\n",
       "      <td>646</td>\n",
       "      <td>541</td>\n",
       "      <td>1277</td>\n",
       "      <td>856</td>\n",
       "      <td>1143</td>\n",
       "    </tr>\n",
       "    <tr>\n",
       "      <th>4</th>\n",
       "      <td>NaN</td>\n",
       "      <td>NaN</td>\n",
       "      <td>NaN</td>\n",
       "      <td>NaN</td>\n",
       "      <td>NaN</td>\n",
       "      <td>NaN</td>\n",
       "      <td>NaN</td>\n",
       "      <td>NaN</td>\n",
       "      <td>NaN</td>\n",
       "      <td>NaN</td>\n",
       "      <td>NaN</td>\n",
       "      <td>NaN</td>\n",
       "      <td>NaN</td>\n",
       "      <td>NaN</td>\n",
       "      <td>NaN</td>\n",
       "      <td>NaN</td>\n",
       "      <td>NaN</td>\n",
       "      <td>NaN</td>\n",
       "      <td>NaN</td>\n",
       "    </tr>\n",
       "  </tbody>\n",
       "</table>\n",
       "</div>"
      ],
      "text/plain": [
       "   Unnamed: 0 Unnamed: 1 Unnamed: 2 Unnamed: 3 Unnamed: 4 Unnamed: 5  \\\n",
       "0         NaN       Item    Q3 2014    Q4 2014    Q1 2015    Q2 2015   \n",
       "1         NaN          A      10802       9548      10702       8314   \n",
       "2         NaN          B        NaN        NaN        NaN        NaN   \n",
       "3         NaN          C       1172        871        875       1074   \n",
       "4         NaN        NaN        NaN        NaN        NaN        NaN   \n",
       "\n",
       "  Unnamed: 6 Unnamed: 7 Unnamed: 8 Unnamed: 9 Unnamed: 10 Unnamed: 11  \\\n",
       "0    Q3 2015    Q4 2015    Q1 2016    Q2 2016     Q3 2016     Q4 2016   \n",
       "1       7800       8123       8087       8995        9150        8347   \n",
       "2        NaN        NaN        162        174         NaN         194   \n",
       "3        935        452       1186       1194        1273        1248   \n",
       "4        NaN        NaN        NaN        NaN         NaN         NaN   \n",
       "\n",
       "  Unnamed: 12 Unnamed: 13 Unnamed: 14 Unnamed: 15 Unnamed: 16 Unnamed: 17  \\\n",
       "0     Q1 2017     Q2 2017     Q3 2017     Q4 2017     Q1 2018     Q2 2018   \n",
       "1        8997       10353       10096       15509       11595       15997   \n",
       "2         191         219         223         165         296         290   \n",
       "3         632         NaN         646         541        1277         856   \n",
       "4         NaN         NaN         NaN         NaN         NaN         NaN   \n",
       "\n",
       "  Unnamed: 18  \n",
       "0     Q3 2018  \n",
       "1       10194  \n",
       "2         210  \n",
       "3        1143  \n",
       "4         NaN  "
      ]
     },
     "execution_count": 31,
     "metadata": {},
     "output_type": "execute_result"
    }
   ],
   "source": [
    "df.head()"
   ]
  },
  {
   "cell_type": "code",
   "execution_count": 32,
   "metadata": {},
   "outputs": [
    {
     "name": "stdout",
     "output_type": "stream",
     "text": [
      "0     Q3 2016\n",
      "1        9150\n",
      "2         NaN\n",
      "3        1273\n",
      "4         NaN\n",
      "5         NaN\n",
      "6         NaN\n",
      "7         NaN\n",
      "8         NaN\n",
      "9         NaN\n",
      "10        NaN\n",
      "11        NaN\n",
      "12        NaN\n",
      "13        NaN\n",
      "Name: Unnamed: 10, dtype: object\n",
      "0     False\n",
      "1     False\n",
      "2     False\n",
      "3      True\n",
      "4      True\n",
      "5      True\n",
      "6      True\n",
      "7      True\n",
      "8      True\n",
      "9      True\n",
      "10     True\n",
      "11    False\n",
      "12     True\n",
      "13     True\n",
      "Name: Unnamed: 13, dtype: bool\n"
     ]
    }
   ],
   "source": [
    "print (df['Unnamed: 10'])\n",
    "print(df['Unnamed: 13'].isnull())"
   ]
  },
  {
   "cell_type": "code",
   "execution_count": 35,
   "metadata": {},
   "outputs": [],
   "source": [
    "missing_values=[\"n/a\",\"na\",\"__\"]\n",
    "df=pd.read_excel('Power-Query-sample-1.xlsx',na_values=missing_values)"
   ]
  },
  {
   "cell_type": "code",
   "execution_count": 36,
   "metadata": {},
   "outputs": [
    {
     "name": "stdout",
     "output_type": "stream",
     "text": [
      "0     Q3 2016\n",
      "1        9150\n",
      "2         NaN\n",
      "3        1273\n",
      "4         NaN\n",
      "5         NaN\n",
      "6         NaN\n",
      "7         NaN\n",
      "8         NaN\n",
      "9         NaN\n",
      "10        NaN\n",
      "11        NaN\n",
      "12        NaN\n",
      "13        NaN\n",
      "Name: Unnamed: 10, dtype: object\n",
      "0     False\n",
      "1     False\n",
      "2     False\n",
      "3      True\n",
      "4      True\n",
      "5      True\n",
      "6      True\n",
      "7      True\n",
      "8      True\n",
      "9      True\n",
      "10     True\n",
      "11    False\n",
      "12     True\n",
      "13     True\n",
      "Name: Unnamed: 13, dtype: bool\n"
     ]
    }
   ],
   "source": [
    "print (df['Unnamed: 10'])\n",
    "print(df['Unnamed: 13'].isnull())"
   ]
  },
  {
   "cell_type": "code",
   "execution_count": 37,
   "metadata": {},
   "outputs": [
    {
     "name": "stdout",
     "output_type": "stream",
     "text": [
      "Unnamed: 0     14\n",
      "Unnamed: 1     10\n",
      "Unnamed: 2     11\n",
      "Unnamed: 3     10\n",
      "Unnamed: 4     11\n",
      "Unnamed: 5     11\n",
      "Unnamed: 6     11\n",
      "Unnamed: 7     11\n",
      "Unnamed: 8     10\n",
      "Unnamed: 9      9\n",
      "Unnamed: 10    11\n",
      "Unnamed: 11    10\n",
      "Unnamed: 12    10\n",
      "Unnamed: 13    10\n",
      "Unnamed: 14    10\n",
      "Unnamed: 15    10\n",
      "Unnamed: 16    10\n",
      "Unnamed: 17    10\n",
      "Unnamed: 18    10\n",
      "dtype: int64\n"
     ]
    }
   ],
   "source": [
    "print(df.isnull().sum())"
   ]
  },
  {
   "cell_type": "code",
   "execution_count": 38,
   "metadata": {},
   "outputs": [
    {
     "data": {
      "text/plain": [
       "True"
      ]
     },
     "execution_count": 38,
     "metadata": {},
     "output_type": "execute_result"
    }
   ],
   "source": [
    "df.isnull().values.any()"
   ]
  },
  {
   "cell_type": "code",
   "execution_count": 39,
   "metadata": {},
   "outputs": [
    {
     "data": {
      "text/plain": [
       "199"
      ]
     },
     "execution_count": 39,
     "metadata": {},
     "output_type": "execute_result"
    }
   ],
   "source": [
    "df.isnull().sum().sum()"
   ]
  },
  {
   "cell_type": "code",
   "execution_count": null,
   "metadata": {},
   "outputs": [],
   "source": []
  }
 ],
 "metadata": {
  "kernelspec": {
   "display_name": "Python 3",
   "language": "python",
   "name": "python3"
  },
  "language_info": {
   "codemirror_mode": {
    "name": "ipython",
    "version": 3
   },
   "file_extension": ".py",
   "mimetype": "text/x-python",
   "name": "python",
   "nbconvert_exporter": "python",
   "pygments_lexer": "ipython3",
   "version": "3.7.6"
  }
 },
 "nbformat": 4,
 "nbformat_minor": 4
}
