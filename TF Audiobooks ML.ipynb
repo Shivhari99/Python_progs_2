{
 "cells": [
  {
   "cell_type": "code",
   "execution_count": 1,
   "metadata": {},
   "outputs": [],
   "source": [
    "import numpy as np\n",
    "import tensorflow as tf"
   ]
  },
  {
   "cell_type": "code",
   "execution_count": 7,
   "metadata": {},
   "outputs": [],
   "source": [
    "npz = np.load('C:\\\\Users\\\\DELL\\\\Desktop\\\\python Progs\\\\Audiobooks_data_train.npz')\n",
    "\n",
    "train_inputs = npz['inputs'].astype(np.float)\n",
    "train_targets = npz['targets'].astype(np.int)\n",
    "\n",
    "npz = np.load('C:\\\\Users\\\\DELL\\\\Desktop\\\\python Progs\\\\Audiobooks_data_validation.npz')\n",
    "\n",
    "validation_inputs,validation_targets = npz['inputs'].astype(np.float),npz['targets'].astype(np.int)\n",
    "\n",
    "npz = np.load('C:\\\\Users\\\\DELL\\\\Desktop\\\\python Progs\\\\Audiobooks_data_test.npz')\n",
    "test_inputs, test_targets = npz['inputs'].astype(np.float), npz['targets'].astype(np.int)"
   ]
  },
  {
   "cell_type": "code",
   "execution_count": 8,
   "metadata": {},
   "outputs": [
    {
     "name": "stdout",
     "output_type": "stream",
     "text": [
      "Epoch 1/100\n",
      "36/36 - 0s - loss: 0.5195 - accuracy: 0.8066 - val_loss: 0.3983 - val_accuracy: 0.8725\n",
      "Epoch 2/100\n",
      "36/36 - 0s - loss: 0.3540 - accuracy: 0.8737 - val_loss: 0.3159 - val_accuracy: 0.8904\n",
      "Epoch 3/100\n",
      "36/36 - 0s - loss: 0.3098 - accuracy: 0.8857 - val_loss: 0.2940 - val_accuracy: 0.8926\n",
      "Epoch 4/100\n",
      "36/36 - 0s - loss: 0.2954 - accuracy: 0.8894 - val_loss: 0.2773 - val_accuracy: 0.8993\n",
      "Epoch 5/100\n",
      "36/36 - 0s - loss: 0.2807 - accuracy: 0.8930 - val_loss: 0.2638 - val_accuracy: 0.9038\n",
      "Epoch 6/100\n",
      "36/36 - 0s - loss: 0.2720 - accuracy: 0.8966 - val_loss: 0.2564 - val_accuracy: 0.9038\n",
      "Epoch 7/100\n",
      "36/36 - 0s - loss: 0.2667 - accuracy: 0.8986 - val_loss: 0.2539 - val_accuracy: 0.9038\n",
      "Epoch 8/100\n",
      "36/36 - 0s - loss: 0.2607 - accuracy: 0.9000 - val_loss: 0.2448 - val_accuracy: 0.9083\n",
      "Epoch 9/100\n",
      "36/36 - 0s - loss: 0.2572 - accuracy: 0.9005 - val_loss: 0.2414 - val_accuracy: 0.9105\n",
      "Epoch 10/100\n",
      "36/36 - 0s - loss: 0.2575 - accuracy: 0.9014 - val_loss: 0.2347 - val_accuracy: 0.9105\n",
      "Epoch 11/100\n",
      "36/36 - 0s - loss: 0.2525 - accuracy: 0.9025 - val_loss: 0.2399 - val_accuracy: 0.9150\n",
      "Epoch 12/100\n",
      "36/36 - 0s - loss: 0.2496 - accuracy: 0.9025 - val_loss: 0.2234 - val_accuracy: 0.9172\n",
      "Epoch 13/100\n",
      "36/36 - 0s - loss: 0.2474 - accuracy: 0.9047 - val_loss: 0.2281 - val_accuracy: 0.9195\n",
      "Epoch 14/100\n",
      "36/36 - 0s - loss: 0.2463 - accuracy: 0.9033 - val_loss: 0.2276 - val_accuracy: 0.9239\n"
     ]
    },
    {
     "data": {
      "text/plain": [
       "<tensorflow.python.keras.callbacks.History at 0x2910fc3fb48>"
      ]
     },
     "execution_count": 8,
     "metadata": {},
     "output_type": "execute_result"
    }
   ],
   "source": [
    "input_size = 10\n",
    "output_size = 2\n",
    "# Use same hidden layer size for both hidden layers. Not a necessity.\n",
    "hidden_layer_size = 50\n",
    "    \n",
    "# define how the model will look like\n",
    "model = tf.keras.Sequential([\n",
    "    # tf.keras.layers.Dense is basically implementing: output = activation(dot(input, weight) + bias)\n",
    "    # it takes several arguments, but the most important ones for us are the hidden_layer_size and the activation function\n",
    "    tf.keras.layers.Dense(hidden_layer_size, activation='relu'), # 1st hidden layer\n",
    "    tf.keras.layers.Dense(hidden_layer_size, activation='relu'), # 2nd hidden layer\n",
    "    # the final layer is no different, we just make sure to activate it with softmax\n",
    "    tf.keras.layers.Dense(output_size, activation='softmax') # output layer\n",
    "])\n",
    "\n",
    "\n",
    "### Choose the optimizer and the loss function\n",
    "\n",
    "# we define the optimizer we'd like to use, \n",
    "# the loss function, \n",
    "# and the metrics we are interested in obtaining at each iteration\n",
    "model.compile(optimizer='adam', loss='sparse_categorical_crossentropy', metrics=['accuracy'])\n",
    "\n",
    "### Training\n",
    "# That's where we train the model we have built.\n",
    "\n",
    "# set the batch size\n",
    "batch_size = 100\n",
    "\n",
    "# set a maximum number of training epochs\n",
    "max_epochs = 100\n",
    "\n",
    "# set an early stopping mechanism\n",
    "# let's set patience=2, to be a bit tolerant against random validation loss increases\n",
    "early_stopping = tf.keras.callbacks.EarlyStopping(patience=2)\n",
    "\n",
    "# fit the model\n",
    "# note that this time the train, validation and test data are not iterable\n",
    "model.fit(train_inputs, # train inputs\n",
    "          train_targets, # train targets\n",
    "          batch_size=batch_size, # batch size\n",
    "          epochs=max_epochs, # epochs that we will train for (assuming early stopping doesn't kick in)\n",
    "          # callbacks are functions called by a task when a task is completed\n",
    "          # task here is to check if val_loss is increasing\n",
    "          callbacks=[early_stopping], # early stopping\n",
    "          validation_data=(validation_inputs, validation_targets), # validation data\n",
    "          verbose = 2 # making sure we get enough information about the training process\n",
    "          )  "
   ]
  },
  {
   "cell_type": "code",
   "execution_count": 9,
   "metadata": {},
   "outputs": [
    {
     "name": "stdout",
     "output_type": "stream",
     "text": [
      "14/14 [==============================] - 0s 3ms/step - loss: 0.2779 - accuracy: 0.8839\n"
     ]
    }
   ],
   "source": [
    "test_loss, test_accuracy = model.evaluate(test_inputs, test_targets)"
   ]
  },
  {
   "cell_type": "code",
   "execution_count": 10,
   "metadata": {},
   "outputs": [
    {
     "name": "stdout",
     "output_type": "stream",
     "text": [
      "\n",
      "Test loss: 0.28. Test accuracy: 88.39%\n"
     ]
    }
   ],
   "source": [
    "print('\\nTest loss: {0:.2f}. Test accuracy: {1:.2f}%'.format(test_loss, test_accuracy*100.))"
   ]
  },
  {
   "cell_type": "code",
   "execution_count": null,
   "metadata": {},
   "outputs": [],
   "source": []
  }
 ],
 "metadata": {
  "kernelspec": {
   "display_name": "Python 3",
   "language": "python",
   "name": "python3"
  },
  "language_info": {
   "codemirror_mode": {
    "name": "ipython",
    "version": 3
   },
   "file_extension": ".py",
   "mimetype": "text/x-python",
   "name": "python",
   "nbconvert_exporter": "python",
   "pygments_lexer": "ipython3",
   "version": "3.7.6"
  }
 },
 "nbformat": 4,
 "nbformat_minor": 4
}
